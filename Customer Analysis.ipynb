{
 "cells": [
  {
   "cell_type": "markdown",
   "id": "30b7ee16",
   "metadata": {},
   "source": [
    "Inferences :\n",
    "    \n",
    "    * Most of the orders comes from northeast and midwest regions\n",
    "    * User 2 , User 1 and User 6 are the most frequent customers\n",
    "    * User 1 , User 3 and User 2 are the highest spending users\n",
    "    * Grilled chicken and Spaghetti are the most ordered items and the higest priced items\n",
    "    * Dinner is the preferred meal\n",
    "    * Order cancelled as not very high compared to completed orders. Prices also doesn't vary much\n",
    "\n",
    "    \n",
    "    "
   ]
  },
  {
   "cell_type": "markdown",
   "id": "55d52020",
   "metadata": {},
   "source": [
    "### Import Libraries"
   ]
  },
  {
   "cell_type": "code",
   "execution_count": 31,
   "id": "10885f7c",
   "metadata": {},
   "outputs": [],
   "source": [
    "import numpy as np\n",
    "import pandas as pd\n",
    "import seaborn as sns\n",
    "import matplotlib.pyplot as plt\n",
    "%matplotlib inline"
   ]
  },
  {
   "cell_type": "markdown",
   "id": "2137dab6",
   "metadata": {},
   "source": [
    "### Read Datafrom Excel File"
   ]
  },
  {
   "cell_type": "code",
   "execution_count": 32,
   "id": "7430b42b",
   "metadata": {},
   "outputs": [],
   "source": [
    "UserDetails = pd.read_excel(\"Assignment.xlsx\",sheet_name='UserDetails.csv')"
   ]
  },
  {
   "cell_type": "code",
   "execution_count": 33,
   "id": "b7a3b8ec",
   "metadata": {},
   "outputs": [],
   "source": [
    "CookingSessions = pd.read_excel(\"Assignment.xlsx\",sheet_name='CookingSessions.csv')"
   ]
  },
  {
   "cell_type": "code",
   "execution_count": 34,
   "id": "3a7ac9e1",
   "metadata": {},
   "outputs": [],
   "source": [
    "OrderDetails = pd.read_excel(\"Assignment.xlsx\",sheet_name='OrderDetails.csv')"
   ]
  },
  {
   "cell_type": "markdown",
   "id": "8b80f9f5",
   "metadata": {},
   "source": [
    "### Analyze the UserDetails Table"
   ]
  },
  {
   "cell_type": "markdown",
   "id": "baf903c8",
   "metadata": {},
   "source": [
    "##### Mapping locations to its demographic regions"
   ]
  },
  {
   "cell_type": "code",
   "execution_count": 36,
   "id": "67971508",
   "metadata": {},
   "outputs": [],
   "source": [
    "demographic_map = {\"New York\":\"Northeast\",\"Los Angeles\":\"WestCoast\",\"Chicago\":\"Midwest\",\"San Francisco\":\"WestCoast\",\"Seattle\":\"WestCoast\",\"Austin\":\"South\",\"Boston\":\"Northeast\",\"Miami\":\"South\",\"Dallas\":\"South\",\"Phoenix\":\"South\"}"
   ]
  },
  {
   "cell_type": "code",
   "execution_count": 37,
   "id": "7d3c7ed1",
   "metadata": {},
   "outputs": [],
   "source": [
    "UserDetails['Demography'] = UserDetails['Location'].map(demographic_map)"
   ]
  },
  {
   "cell_type": "code",
   "execution_count": 38,
   "id": "35260767",
   "metadata": {},
   "outputs": [
    {
     "data": {
      "text/html": [
       "<div>\n",
       "<style scoped>\n",
       "    .dataframe tbody tr th:only-of-type {\n",
       "        vertical-align: middle;\n",
       "    }\n",
       "\n",
       "    .dataframe tbody tr th {\n",
       "        vertical-align: top;\n",
       "    }\n",
       "\n",
       "    .dataframe thead th {\n",
       "        text-align: right;\n",
       "    }\n",
       "</style>\n",
       "<table border=\"1\" class=\"dataframe\">\n",
       "  <thead>\n",
       "    <tr style=\"text-align: right;\">\n",
       "      <th></th>\n",
       "      <th>User ID</th>\n",
       "      <th>User Name</th>\n",
       "      <th>Age</th>\n",
       "      <th>Location</th>\n",
       "      <th>Registration Date</th>\n",
       "      <th>Phone</th>\n",
       "      <th>Email</th>\n",
       "      <th>Favorite Meal</th>\n",
       "      <th>Total Orders</th>\n",
       "      <th>Demography</th>\n",
       "    </tr>\n",
       "  </thead>\n",
       "  <tbody>\n",
       "    <tr>\n",
       "      <th>0</th>\n",
       "      <td>U001</td>\n",
       "      <td>Alice Johnson</td>\n",
       "      <td>28.0</td>\n",
       "      <td>New York</td>\n",
       "      <td>2023-01-15</td>\n",
       "      <td>123-456-7890</td>\n",
       "      <td>alice@email.com</td>\n",
       "      <td>Dinner</td>\n",
       "      <td>12.0</td>\n",
       "      <td>Northeast</td>\n",
       "    </tr>\n",
       "    <tr>\n",
       "      <th>1</th>\n",
       "      <td>U002</td>\n",
       "      <td>Bob Smith</td>\n",
       "      <td>35.0</td>\n",
       "      <td>Los Angeles</td>\n",
       "      <td>2023-02-20</td>\n",
       "      <td>987-654-3210</td>\n",
       "      <td>bob@email.com</td>\n",
       "      <td>Lunch</td>\n",
       "      <td>8.0</td>\n",
       "      <td>WestCoast</td>\n",
       "    </tr>\n",
       "    <tr>\n",
       "      <th>2</th>\n",
       "      <td>U003</td>\n",
       "      <td>Charlie Lee</td>\n",
       "      <td>42.0</td>\n",
       "      <td>Chicago</td>\n",
       "      <td>2023-03-10</td>\n",
       "      <td>555-123-4567</td>\n",
       "      <td>charlie@email.com</td>\n",
       "      <td>Breakfast</td>\n",
       "      <td>15.0</td>\n",
       "      <td>Midwest</td>\n",
       "    </tr>\n",
       "    <tr>\n",
       "      <th>3</th>\n",
       "      <td>U004</td>\n",
       "      <td>David Brown</td>\n",
       "      <td>27.0</td>\n",
       "      <td>San Francisco</td>\n",
       "      <td>2023-04-05</td>\n",
       "      <td>444-333-2222</td>\n",
       "      <td>david@email.com</td>\n",
       "      <td>Dinner</td>\n",
       "      <td>10.0</td>\n",
       "      <td>WestCoast</td>\n",
       "    </tr>\n",
       "    <tr>\n",
       "      <th>4</th>\n",
       "      <td>U005</td>\n",
       "      <td>Emma White</td>\n",
       "      <td>30.0</td>\n",
       "      <td>Seattle</td>\n",
       "      <td>2023-05-22</td>\n",
       "      <td>777-888-9999</td>\n",
       "      <td>emma@email.com</td>\n",
       "      <td>Lunch</td>\n",
       "      <td>9.0</td>\n",
       "      <td>WestCoast</td>\n",
       "    </tr>\n",
       "    <tr>\n",
       "      <th>5</th>\n",
       "      <td>U006</td>\n",
       "      <td>Frank Green</td>\n",
       "      <td>25.0</td>\n",
       "      <td>Austin</td>\n",
       "      <td>2023-06-15</td>\n",
       "      <td>888-777-6666</td>\n",
       "      <td>frank@email.com</td>\n",
       "      <td>Dinner</td>\n",
       "      <td>7.0</td>\n",
       "      <td>South</td>\n",
       "    </tr>\n",
       "    <tr>\n",
       "      <th>6</th>\n",
       "      <td>U007</td>\n",
       "      <td>Grace King</td>\n",
       "      <td>38.0</td>\n",
       "      <td>Boston</td>\n",
       "      <td>2023-07-02</td>\n",
       "      <td>999-888-7777</td>\n",
       "      <td>grace@email.com</td>\n",
       "      <td>Breakfast</td>\n",
       "      <td>14.0</td>\n",
       "      <td>Northeast</td>\n",
       "    </tr>\n",
       "    <tr>\n",
       "      <th>7</th>\n",
       "      <td>U008</td>\n",
       "      <td>Henry Lee</td>\n",
       "      <td>31.0</td>\n",
       "      <td>Miami</td>\n",
       "      <td>2023-08-11</td>\n",
       "      <td>101-202-3030</td>\n",
       "      <td>henry@email.com</td>\n",
       "      <td>Dinner</td>\n",
       "      <td>5.0</td>\n",
       "      <td>South</td>\n",
       "    </tr>\n",
       "    <tr>\n",
       "      <th>8</th>\n",
       "      <td>U009</td>\n",
       "      <td>Irene Moore</td>\n",
       "      <td>33.0</td>\n",
       "      <td>Dallas</td>\n",
       "      <td>2023-09-01</td>\n",
       "      <td>202-303-4040</td>\n",
       "      <td>irene@email.com</td>\n",
       "      <td>Lunch</td>\n",
       "      <td>6.0</td>\n",
       "      <td>South</td>\n",
       "    </tr>\n",
       "    <tr>\n",
       "      <th>9</th>\n",
       "      <td>U010</td>\n",
       "      <td>Jack White</td>\n",
       "      <td>29.0</td>\n",
       "      <td>Phoenix</td>\n",
       "      <td>2023-10-10</td>\n",
       "      <td>303-404-5050</td>\n",
       "      <td>jack@email.com</td>\n",
       "      <td>Dinner</td>\n",
       "      <td>8.0</td>\n",
       "      <td>South</td>\n",
       "    </tr>\n",
       "  </tbody>\n",
       "</table>\n",
       "</div>"
      ],
      "text/plain": [
       "  User ID      User Name   Age       Location Registration Date         Phone  \\\n",
       "0    U001  Alice Johnson  28.0       New York        2023-01-15  123-456-7890   \n",
       "1    U002      Bob Smith  35.0    Los Angeles        2023-02-20  987-654-3210   \n",
       "2    U003    Charlie Lee  42.0        Chicago        2023-03-10  555-123-4567   \n",
       "3    U004    David Brown  27.0  San Francisco        2023-04-05  444-333-2222   \n",
       "4    U005     Emma White  30.0        Seattle        2023-05-22  777-888-9999   \n",
       "5    U006    Frank Green  25.0         Austin        2023-06-15  888-777-6666   \n",
       "6    U007     Grace King  38.0         Boston        2023-07-02  999-888-7777   \n",
       "7    U008      Henry Lee  31.0          Miami        2023-08-11  101-202-3030   \n",
       "8    U009    Irene Moore  33.0         Dallas        2023-09-01  202-303-4040   \n",
       "9    U010     Jack White  29.0        Phoenix        2023-10-10  303-404-5050   \n",
       "\n",
       "               Email Favorite Meal  Total Orders Demography  \n",
       "0    alice@email.com        Dinner          12.0  Northeast  \n",
       "1      bob@email.com         Lunch           8.0  WestCoast  \n",
       "2  charlie@email.com     Breakfast          15.0    Midwest  \n",
       "3    david@email.com        Dinner          10.0  WestCoast  \n",
       "4     emma@email.com         Lunch           9.0  WestCoast  \n",
       "5    frank@email.com        Dinner           7.0      South  \n",
       "6    grace@email.com     Breakfast          14.0  Northeast  \n",
       "7    henry@email.com        Dinner           5.0      South  \n",
       "8    irene@email.com         Lunch           6.0      South  \n",
       "9     jack@email.com        Dinner           8.0      South  "
      ]
     },
     "execution_count": 38,
     "metadata": {},
     "output_type": "execute_result"
    }
   ],
   "source": [
    "UserDetails"
   ]
  },
  {
   "cell_type": "code",
   "execution_count": 39,
   "id": "cf211f4c",
   "metadata": {},
   "outputs": [],
   "source": [
    "demo_df = UserDetails.groupby(\"Demography\")['Total Orders'].agg(['sum', 'count', 'mean']).reset_index()"
   ]
  },
  {
   "cell_type": "code",
   "execution_count": 40,
   "id": "81d3b95d",
   "metadata": {},
   "outputs": [
    {
     "data": {
      "image/png": "[encoded data removed]",
      "text/plain": [
       "<Figure size 360x288 with 1 Axes>"
      ]
     },
     "metadata": {
      "needs_background": "light"
     },
     "output_type": "display_data"
    }
   ],
   "source": [
    "import matplotlib.pyplot as plt\n",
    "\n",
    "# Create the bar plot\n",
    "plt.figure(figsize=(5, 4))\n",
    "plt.bar(demo_df['Demography'], demo_df['mean'])\n",
    "\n",
    "# Add titles and labels\n",
    "plt.title('Average Orders by Region', fontsize=16)\n",
    "plt.xlabel('Regions', fontsize=14)\n",
    "plt.ylabel('Average Orders', fontsize=14)\n",
    "\n",
    "# Display the bar plot\n",
    "plt.tight_layout()\n",
    "plt.show()\n"
   ]
  },
  {
   "cell_type": "markdown",
   "id": "23e89656",
   "metadata": {},
   "source": [
    "Based on the demographic information :\n",
    "\n",
    "    * Midwest and Northeast users orders the most , as the population density is higher\n",
    "    "
   ]
  },
  {
   "cell_type": "markdown",
   "id": "3120bb6b",
   "metadata": {},
   "source": [
    "### Analysing most frequent customer"
   ]
  },
  {
   "cell_type": "code",
   "execution_count": 41,
   "id": "9cbbd04a",
   "metadata": {},
   "outputs": [],
   "source": [
    "#using registration date"
   ]
  },
  {
   "cell_type": "code",
   "execution_count": 47,
   "id": "39ca3593",
   "metadata": {},
   "outputs": [
    {
     "data": {
      "text/html": [
       "<div>\n",
       "<style scoped>\n",
       "    .dataframe tbody tr th:only-of-type {\n",
       "        vertical-align: middle;\n",
       "    }\n",
       "\n",
       "    .dataframe tbody tr th {\n",
       "        vertical-align: top;\n",
       "    }\n",
       "\n",
       "    .dataframe thead th {\n",
       "        text-align: right;\n",
       "    }\n",
       "</style>\n",
       "<table border=\"1\" class=\"dataframe\">\n",
       "  <thead>\n",
       "    <tr style=\"text-align: right;\">\n",
       "      <th></th>\n",
       "      <th>User ID</th>\n",
       "      <th>User Name</th>\n",
       "      <th>Age</th>\n",
       "      <th>Location</th>\n",
       "      <th>Registration Date</th>\n",
       "      <th>Phone</th>\n",
       "      <th>Email</th>\n",
       "      <th>Favorite Meal</th>\n",
       "      <th>Total Orders</th>\n",
       "      <th>Demography</th>\n",
       "      <th>DaysDifference</th>\n",
       "    </tr>\n",
       "  </thead>\n",
       "  <tbody>\n",
       "    <tr>\n",
       "      <th>0</th>\n",
       "      <td>U001</td>\n",
       "      <td>Alice Johnson</td>\n",
       "      <td>28.0</td>\n",
       "      <td>New York</td>\n",
       "      <td>2023-01-15</td>\n",
       "      <td>123-456-7890</td>\n",
       "      <td>alice@email.com</td>\n",
       "      <td>Dinner</td>\n",
       "      <td>12.0</td>\n",
       "      <td>Northeast</td>\n",
       "      <td>350</td>\n",
       "    </tr>\n",
       "    <tr>\n",
       "      <th>1</th>\n",
       "      <td>U002</td>\n",
       "      <td>Bob Smith</td>\n",
       "      <td>35.0</td>\n",
       "      <td>Los Angeles</td>\n",
       "      <td>2023-02-20</td>\n",
       "      <td>987-654-3210</td>\n",
       "      <td>bob@email.com</td>\n",
       "      <td>Lunch</td>\n",
       "      <td>8.0</td>\n",
       "      <td>WestCoast</td>\n",
       "      <td>314</td>\n",
       "    </tr>\n",
       "    <tr>\n",
       "      <th>2</th>\n",
       "      <td>U003</td>\n",
       "      <td>Charlie Lee</td>\n",
       "      <td>42.0</td>\n",
       "      <td>Chicago</td>\n",
       "      <td>2023-03-10</td>\n",
       "      <td>555-123-4567</td>\n",
       "      <td>charlie@email.com</td>\n",
       "      <td>Breakfast</td>\n",
       "      <td>15.0</td>\n",
       "      <td>Midwest</td>\n",
       "      <td>296</td>\n",
       "    </tr>\n",
       "    <tr>\n",
       "      <th>3</th>\n",
       "      <td>U004</td>\n",
       "      <td>David Brown</td>\n",
       "      <td>27.0</td>\n",
       "      <td>San Francisco</td>\n",
       "      <td>2023-04-05</td>\n",
       "      <td>444-333-2222</td>\n",
       "      <td>david@email.com</td>\n",
       "      <td>Dinner</td>\n",
       "      <td>10.0</td>\n",
       "      <td>WestCoast</td>\n",
       "      <td>270</td>\n",
       "    </tr>\n",
       "    <tr>\n",
       "      <th>4</th>\n",
       "      <td>U005</td>\n",
       "      <td>Emma White</td>\n",
       "      <td>30.0</td>\n",
       "      <td>Seattle</td>\n",
       "      <td>2023-05-22</td>\n",
       "      <td>777-888-9999</td>\n",
       "      <td>emma@email.com</td>\n",
       "      <td>Lunch</td>\n",
       "      <td>9.0</td>\n",
       "      <td>WestCoast</td>\n",
       "      <td>223</td>\n",
       "    </tr>\n",
       "    <tr>\n",
       "      <th>5</th>\n",
       "      <td>U006</td>\n",
       "      <td>Frank Green</td>\n",
       "      <td>25.0</td>\n",
       "      <td>Austin</td>\n",
       "      <td>2023-06-15</td>\n",
       "      <td>888-777-6666</td>\n",
       "      <td>frank@email.com</td>\n",
       "      <td>Dinner</td>\n",
       "      <td>7.0</td>\n",
       "      <td>South</td>\n",
       "      <td>199</td>\n",
       "    </tr>\n",
       "    <tr>\n",
       "      <th>6</th>\n",
       "      <td>U007</td>\n",
       "      <td>Grace King</td>\n",
       "      <td>38.0</td>\n",
       "      <td>Boston</td>\n",
       "      <td>2023-07-02</td>\n",
       "      <td>999-888-7777</td>\n",
       "      <td>grace@email.com</td>\n",
       "      <td>Breakfast</td>\n",
       "      <td>14.0</td>\n",
       "      <td>Northeast</td>\n",
       "      <td>182</td>\n",
       "    </tr>\n",
       "    <tr>\n",
       "      <th>7</th>\n",
       "      <td>U008</td>\n",
       "      <td>Henry Lee</td>\n",
       "      <td>31.0</td>\n",
       "      <td>Miami</td>\n",
       "      <td>2023-08-11</td>\n",
       "      <td>101-202-3030</td>\n",
       "      <td>henry@email.com</td>\n",
       "      <td>Dinner</td>\n",
       "      <td>5.0</td>\n",
       "      <td>South</td>\n",
       "      <td>142</td>\n",
       "    </tr>\n",
       "    <tr>\n",
       "      <th>8</th>\n",
       "      <td>U009</td>\n",
       "      <td>Irene Moore</td>\n",
       "      <td>33.0</td>\n",
       "      <td>Dallas</td>\n",
       "      <td>2023-09-01</td>\n",
       "      <td>202-303-4040</td>\n",
       "      <td>irene@email.com</td>\n",
       "      <td>Lunch</td>\n",
       "      <td>6.0</td>\n",
       "      <td>South</td>\n",
       "      <td>121</td>\n",
       "    </tr>\n",
       "    <tr>\n",
       "      <th>9</th>\n",
       "      <td>U010</td>\n",
       "      <td>Jack White</td>\n",
       "      <td>29.0</td>\n",
       "      <td>Phoenix</td>\n",
       "      <td>2023-10-10</td>\n",
       "      <td>303-404-5050</td>\n",
       "      <td>jack@email.com</td>\n",
       "      <td>Dinner</td>\n",
       "      <td>8.0</td>\n",
       "      <td>South</td>\n",
       "      <td>82</td>\n",
       "    </tr>\n",
       "  </tbody>\n",
       "</table>\n",
       "</div>"
      ],
      "text/plain": [
       "  User ID      User Name   Age       Location Registration Date         Phone  \\\n",
       "0    U001  Alice Johnson  28.0       New York        2023-01-15  123-456-7890   \n",
       "1    U002      Bob Smith  35.0    Los Angeles        2023-02-20  987-654-3210   \n",
       "2    U003    Charlie Lee  42.0        Chicago        2023-03-10  555-123-4567   \n",
       "3    U004    David Brown  27.0  San Francisco        2023-04-05  444-333-2222   \n",
       "4    U005     Emma White  30.0        Seattle        2023-05-22  777-888-9999   \n",
       "5    U006    Frank Green  25.0         Austin        2023-06-15  888-777-6666   \n",
       "6    U007     Grace King  38.0         Boston        2023-07-02  999-888-7777   \n",
       "7    U008      Henry Lee  31.0          Miami        2023-08-11  101-202-3030   \n",
       "8    U009    Irene Moore  33.0         Dallas        2023-09-01  202-303-4040   \n",
       "9    U010     Jack White  29.0        Phoenix        2023-10-10  303-404-5050   \n",
       "\n",
       "               Email Favorite Meal  Total Orders Demography  DaysDifference  \n",
       "0    alice@email.com        Dinner          12.0  Northeast             350  \n",
       "1      bob@email.com         Lunch           8.0  WestCoast             314  \n",
       "2  charlie@email.com     Breakfast          15.0    Midwest             296  \n",
       "3    david@email.com        Dinner          10.0  WestCoast             270  \n",
       "4     emma@email.com         Lunch           9.0  WestCoast             223  \n",
       "5    frank@email.com        Dinner           7.0      South             199  \n",
       "6    grace@email.com     Breakfast          14.0  Northeast             182  \n",
       "7    henry@email.com        Dinner           5.0      South             142  \n",
       "8    irene@email.com         Lunch           6.0      South             121  \n",
       "9     jack@email.com        Dinner           8.0      South              82  "
      ]
     },
     "execution_count": 47,
     "metadata": {},
     "output_type": "execute_result"
    }
   ],
   "source": [
    "from datetime import datetime\n",
    "current_date = '2023-12-31'\n",
    "UserDetails['DaysDifference'] = (datetime.strptime(current_date, \"%Y-%m-%d\") - UserDetails['Registration Date']).dt.days\n",
    "UserDetails"
   ]
  },
  {
   "cell_type": "code",
   "execution_count": 49,
   "id": "d180044b",
   "metadata": {},
   "outputs": [],
   "source": [
    "UserDetails['Days_per_Order'] = UserDetails['DaysDifference']/UserDetails['Total Orders']"
   ]
  },
  {
   "cell_type": "code",
   "execution_count": 51,
   "id": "09fca10e",
   "metadata": {},
   "outputs": [
    {
     "data": {
      "text/html": [
       "<div>\n",
       "<style scoped>\n",
       "    .dataframe tbody tr th:only-of-type {\n",
       "        vertical-align: middle;\n",
       "    }\n",
       "\n",
       "    .dataframe tbody tr th {\n",
       "        vertical-align: top;\n",
       "    }\n",
       "\n",
       "    .dataframe thead th {\n",
       "        text-align: right;\n",
       "    }\n",
       "</style>\n",
       "<table border=\"1\" class=\"dataframe\">\n",
       "  <thead>\n",
       "    <tr style=\"text-align: right;\">\n",
       "      <th></th>\n",
       "      <th>User ID</th>\n",
       "      <th>User Name</th>\n",
       "      <th>Age</th>\n",
       "      <th>Location</th>\n",
       "      <th>Registration Date</th>\n",
       "      <th>Phone</th>\n",
       "      <th>Email</th>\n",
       "      <th>Favorite Meal</th>\n",
       "      <th>Total Orders</th>\n",
       "      <th>Demography</th>\n",
       "      <th>DaysDifference</th>\n",
       "      <th>Days_per_Order</th>\n",
       "    </tr>\n",
       "  </thead>\n",
       "  <tbody>\n",
       "    <tr>\n",
       "      <th>1</th>\n",
       "      <td>U002</td>\n",
       "      <td>Bob Smith</td>\n",
       "      <td>35.0</td>\n",
       "      <td>Los Angeles</td>\n",
       "      <td>2023-02-20</td>\n",
       "      <td>987-654-3210</td>\n",
       "      <td>bob@email.com</td>\n",
       "      <td>Lunch</td>\n",
       "      <td>8.0</td>\n",
       "      <td>WestCoast</td>\n",
       "      <td>314</td>\n",
       "      <td>39.250000</td>\n",
       "    </tr>\n",
       "    <tr>\n",
       "      <th>0</th>\n",
       "      <td>U001</td>\n",
       "      <td>Alice Johnson</td>\n",
       "      <td>28.0</td>\n",
       "      <td>New York</td>\n",
       "      <td>2023-01-15</td>\n",
       "      <td>123-456-7890</td>\n",
       "      <td>alice@email.com</td>\n",
       "      <td>Dinner</td>\n",
       "      <td>12.0</td>\n",
       "      <td>Northeast</td>\n",
       "      <td>350</td>\n",
       "      <td>29.166667</td>\n",
       "    </tr>\n",
       "    <tr>\n",
       "      <th>5</th>\n",
       "      <td>U006</td>\n",
       "      <td>Frank Green</td>\n",
       "      <td>25.0</td>\n",
       "      <td>Austin</td>\n",
       "      <td>2023-06-15</td>\n",
       "      <td>888-777-6666</td>\n",
       "      <td>frank@email.com</td>\n",
       "      <td>Dinner</td>\n",
       "      <td>7.0</td>\n",
       "      <td>South</td>\n",
       "      <td>199</td>\n",
       "      <td>28.428571</td>\n",
       "    </tr>\n",
       "  </tbody>\n",
       "</table>\n",
       "</div>"
      ],
      "text/plain": [
       "  User ID      User Name   Age     Location Registration Date         Phone  \\\n",
       "1    U002      Bob Smith  35.0  Los Angeles        2023-02-20  987-654-3210   \n",
       "0    U001  Alice Johnson  28.0     New York        2023-01-15  123-456-7890   \n",
       "5    U006    Frank Green  25.0       Austin        2023-06-15  888-777-6666   \n",
       "\n",
       "             Email Favorite Meal  Total Orders Demography  DaysDifference  \\\n",
       "1    bob@email.com         Lunch           8.0  WestCoast             314   \n",
       "0  alice@email.com        Dinner          12.0  Northeast             350   \n",
       "5  frank@email.com        Dinner           7.0      South             199   \n",
       "\n",
       "   Days_per_Order  \n",
       "1       39.250000  \n",
       "0       29.166667  \n",
       "5       28.428571  "
      ]
     },
     "execution_count": 51,
     "metadata": {},
     "output_type": "execute_result"
    }
   ],
   "source": [
    "UserDetails.sort_values(by='Days_per_Order',ascending=False).head(3)"
   ]
  },
  {
   "cell_type": "markdown",
   "id": "8497f30f",
   "metadata": {},
   "source": [
    "### Comparing Cooking sessions and Order Details"
   ]
  },
  {
   "cell_type": "code",
   "execution_count": 16,
   "id": "b4e2c5f3",
   "metadata": {},
   "outputs": [],
   "source": [
    "merged_df = pd.merge(CookingSessions,OrderDetails[['Order ID','Order Date','Amount (USD)','Session ID',\"Rating\"]],left_on=['Session ID'],right_on=['Session ID'],how='left')"
   ]
  },
  {
   "cell_type": "markdown",
   "id": "6066ee04",
   "metadata": {},
   "source": [
    "#####               Spending patterns (Top 3 Spends)"
   ]
  },
  {
   "cell_type": "code",
   "execution_count": 21,
   "id": "508bf677",
   "metadata": {},
   "outputs": [],
   "source": [
    "spend_df = merged_df.groupby(\"User ID\")['Amount (USD)'].sum().reset_index()"
   ]
  },
  {
   "cell_type": "code",
   "execution_count": 26,
   "id": "85f49677",
   "metadata": {},
   "outputs": [
    {
     "data": {
      "text/html": [
       "<div>\n",
       "<style scoped>\n",
       "    .dataframe tbody tr th:only-of-type {\n",
       "        vertical-align: middle;\n",
       "    }\n",
       "\n",
       "    .dataframe tbody tr th {\n",
       "        vertical-align: top;\n",
       "    }\n",
       "\n",
       "    .dataframe thead th {\n",
       "        text-align: right;\n",
       "    }\n",
       "</style>\n",
       "<table border=\"1\" class=\"dataframe\">\n",
       "  <thead>\n",
       "    <tr style=\"text-align: right;\">\n",
       "      <th></th>\n",
       "      <th>User ID</th>\n",
       "      <th>Amount (USD)</th>\n",
       "    </tr>\n",
       "  </thead>\n",
       "  <tbody>\n",
       "    <tr>\n",
       "      <th>0</th>\n",
       "      <td>U001</td>\n",
       "      <td>35.0</td>\n",
       "    </tr>\n",
       "    <tr>\n",
       "      <th>2</th>\n",
       "      <td>U003</td>\n",
       "      <td>32.0</td>\n",
       "    </tr>\n",
       "    <tr>\n",
       "      <th>1</th>\n",
       "      <td>U002</td>\n",
       "      <td>31.0</td>\n",
       "    </tr>\n",
       "  </tbody>\n",
       "</table>\n",
       "</div>"
      ],
      "text/plain": [
       "  User ID  Amount (USD)\n",
       "0    U001          35.0\n",
       "2    U003          32.0\n",
       "1    U002          31.0"
      ]
     },
     "execution_count": 26,
     "metadata": {},
     "output_type": "execute_result"
    }
   ],
   "source": [
    "spend_df.sort_values(by=['Amount (USD)'],ascending=False).head(3)"
   ]
  },
  {
   "cell_type": "markdown",
   "id": "d47fee1e",
   "metadata": {},
   "source": [
    "#####               Revenue per dish"
   ]
  },
  {
   "cell_type": "code",
   "execution_count": 52,
   "id": "ad097a35",
   "metadata": {},
   "outputs": [
    {
     "data": {
      "text/html": [
       "<div>\n",
       "<style scoped>\n",
       "    .dataframe tbody tr th:only-of-type {\n",
       "        vertical-align: middle;\n",
       "    }\n",
       "\n",
       "    .dataframe tbody tr th {\n",
       "        vertical-align: top;\n",
       "    }\n",
       "\n",
       "    .dataframe thead th {\n",
       "        text-align: right;\n",
       "    }\n",
       "</style>\n",
       "<table border=\"1\" class=\"dataframe\">\n",
       "  <thead>\n",
       "    <tr style=\"text-align: right;\">\n",
       "      <th></th>\n",
       "      <th>Dish Name</th>\n",
       "      <th>Amount (USD)</th>\n",
       "    </tr>\n",
       "  </thead>\n",
       "  <tbody>\n",
       "    <tr>\n",
       "      <th>0</th>\n",
       "      <td>Caesar Salad</td>\n",
       "      <td>28.0</td>\n",
       "    </tr>\n",
       "    <tr>\n",
       "      <th>1</th>\n",
       "      <td>Grilled Chicken</td>\n",
       "      <td>51.0</td>\n",
       "    </tr>\n",
       "    <tr>\n",
       "      <th>2</th>\n",
       "      <td>Oatmeal</td>\n",
       "      <td>7.0</td>\n",
       "    </tr>\n",
       "    <tr>\n",
       "      <th>3</th>\n",
       "      <td>Pancakes</td>\n",
       "      <td>16.5</td>\n",
       "    </tr>\n",
       "    <tr>\n",
       "      <th>4</th>\n",
       "      <td>Spaghetti</td>\n",
       "      <td>55.5</td>\n",
       "    </tr>\n",
       "    <tr>\n",
       "      <th>5</th>\n",
       "      <td>Veggie Burger</td>\n",
       "      <td>22.0</td>\n",
       "    </tr>\n",
       "  </tbody>\n",
       "</table>\n",
       "</div>"
      ],
      "text/plain": [
       "         Dish Name  Amount (USD)\n",
       "0     Caesar Salad          28.0\n",
       "1  Grilled Chicken          51.0\n",
       "2          Oatmeal           7.0\n",
       "3         Pancakes          16.5\n",
       "4        Spaghetti          55.5\n",
       "5    Veggie Burger          22.0"
      ]
     },
     "execution_count": 52,
     "metadata": {},
     "output_type": "execute_result"
    }
   ],
   "source": [
    "merged_df.groupby(\"Dish Name\")['Amount (USD)'].sum().reset_index()   #Revenue by dish name"
   ]
  },
  {
   "cell_type": "markdown",
   "id": "20dbdc19",
   "metadata": {},
   "source": [
    "#####     Time to prepare for each dish"
   ]
  },
  {
   "cell_type": "code",
   "execution_count": 29,
   "id": "903e18cd",
   "metadata": {},
   "outputs": [
    {
     "data": {
      "text/html": [
       "<div>\n",
       "<style scoped>\n",
       "    .dataframe tbody tr th:only-of-type {\n",
       "        vertical-align: middle;\n",
       "    }\n",
       "\n",
       "    .dataframe tbody tr th {\n",
       "        vertical-align: top;\n",
       "    }\n",
       "\n",
       "    .dataframe thead th {\n",
       "        text-align: right;\n",
       "    }\n",
       "</style>\n",
       "<table border=\"1\" class=\"dataframe\">\n",
       "  <thead>\n",
       "    <tr style=\"text-align: right;\">\n",
       "      <th></th>\n",
       "      <th>Dish Name</th>\n",
       "      <th>Duration (mins)</th>\n",
       "    </tr>\n",
       "  </thead>\n",
       "  <tbody>\n",
       "    <tr>\n",
       "      <th>0</th>\n",
       "      <td>Caesar Salad</td>\n",
       "      <td>21.666667</td>\n",
       "    </tr>\n",
       "    <tr>\n",
       "      <th>1</th>\n",
       "      <td>Grilled Chicken</td>\n",
       "      <td>42.500000</td>\n",
       "    </tr>\n",
       "    <tr>\n",
       "      <th>2</th>\n",
       "      <td>Oatmeal</td>\n",
       "      <td>10.000000</td>\n",
       "    </tr>\n",
       "    <tr>\n",
       "      <th>3</th>\n",
       "      <td>Pancakes</td>\n",
       "      <td>30.000000</td>\n",
       "    </tr>\n",
       "    <tr>\n",
       "      <th>4</th>\n",
       "      <td>Spaghetti</td>\n",
       "      <td>35.000000</td>\n",
       "    </tr>\n",
       "    <tr>\n",
       "      <th>5</th>\n",
       "      <td>Veggie Burger</td>\n",
       "      <td>20.000000</td>\n",
       "    </tr>\n",
       "  </tbody>\n",
       "</table>\n",
       "</div>"
      ],
      "text/plain": [
       "         Dish Name  Duration (mins)\n",
       "0     Caesar Salad        21.666667\n",
       "1  Grilled Chicken        42.500000\n",
       "2          Oatmeal        10.000000\n",
       "3         Pancakes        30.000000\n",
       "4        Spaghetti        35.000000\n",
       "5    Veggie Burger        20.000000"
      ]
     },
     "execution_count": 29,
     "metadata": {},
     "output_type": "execute_result"
    }
   ],
   "source": [
    "merged_df.groupby(\"Dish Name\")['Duration (mins)'].mean().reset_index()   #Average time to prepare for each dish"
   ]
  },
  {
   "cell_type": "markdown",
   "id": "0202ba73",
   "metadata": {},
   "source": [
    "#####   Frequency of ordering for each dish\n"
   ]
  },
  {
   "cell_type": "code",
   "execution_count": 53,
   "id": "d2b99332",
   "metadata": {},
   "outputs": [
    {
     "data": {
      "text/html": [
       "<div>\n",
       "<style scoped>\n",
       "    .dataframe tbody tr th:only-of-type {\n",
       "        vertical-align: middle;\n",
       "    }\n",
       "\n",
       "    .dataframe tbody tr th {\n",
       "        vertical-align: top;\n",
       "    }\n",
       "\n",
       "    .dataframe thead th {\n",
       "        text-align: right;\n",
       "    }\n",
       "</style>\n",
       "<table border=\"1\" class=\"dataframe\">\n",
       "  <thead>\n",
       "    <tr style=\"text-align: right;\">\n",
       "      <th></th>\n",
       "      <th>Dish Name</th>\n",
       "      <th>Order_Frequency</th>\n",
       "    </tr>\n",
       "  </thead>\n",
       "  <tbody>\n",
       "    <tr>\n",
       "      <th>0</th>\n",
       "      <td>Caesar Salad</td>\n",
       "      <td>3</td>\n",
       "    </tr>\n",
       "    <tr>\n",
       "      <th>1</th>\n",
       "      <td>Grilled Chicken</td>\n",
       "      <td>4</td>\n",
       "    </tr>\n",
       "    <tr>\n",
       "      <th>2</th>\n",
       "      <td>Oatmeal</td>\n",
       "      <td>1</td>\n",
       "    </tr>\n",
       "    <tr>\n",
       "      <th>3</th>\n",
       "      <td>Pancakes</td>\n",
       "      <td>2</td>\n",
       "    </tr>\n",
       "    <tr>\n",
       "      <th>4</th>\n",
       "      <td>Spaghetti</td>\n",
       "      <td>4</td>\n",
       "    </tr>\n",
       "    <tr>\n",
       "      <th>5</th>\n",
       "      <td>Veggie Burger</td>\n",
       "      <td>2</td>\n",
       "    </tr>\n",
       "  </tbody>\n",
       "</table>\n",
       "</div>"
      ],
      "text/plain": [
       "         Dish Name  Order_Frequency\n",
       "0     Caesar Salad                3\n",
       "1  Grilled Chicken                4\n",
       "2          Oatmeal                1\n",
       "3         Pancakes                2\n",
       "4        Spaghetti                4\n",
       "5    Veggie Burger                2"
      ]
     },
     "execution_count": 53,
     "metadata": {},
     "output_type": "execute_result"
    }
   ],
   "source": [
    "merged_df.groupby(\"Dish Name\")['Duration (mins)'].count().reset_index(name='Order_Frequency')"
   ]
  },
  {
   "cell_type": "code",
   "execution_count": 21,
   "id": "d4a3f39d",
   "metadata": {},
   "outputs": [
    {
     "name": "stdout",
     "output_type": "stream",
     "text": [
      "Average age of Customer :  31\n"
     ]
    }
   ],
   "source": [
    "#Average age of our customers is 31, we can calculate it using mean and median mostly.\n",
    "print(\"Average age of Customer :  \" + str(int(UserDetails[\"Age\"].mean())))\n"
   ]
  },
  {
   "cell_type": "code",
   "execution_count": 25,
   "id": "491e9bc1",
   "metadata": {},
   "outputs": [
    {
     "data": {
      "text/plain": [
       "array(['New York', 'Los Angeles', 'Chicago', 'San Francisco', 'Seattle',\n",
       "       'Austin', 'Boston', 'Miami', 'Dallas', 'Phoenix'], dtype=object)"
      ]
     },
     "execution_count": 25,
     "metadata": {},
     "output_type": "execute_result"
    }
   ],
   "source": [
    "UserDetails[\"Location\"].unique()\n",
    "'''\n",
    "Given location of our customer I conclude that Many of these cities are among the most populous in the U.S.\n",
    "We can identify cooking trends in each city.\n",
    "We can highlight the features of our appliance according to local lifestyle.\n",
    "Collaborate with local influencers, chefs, bloggers, etc.\n",
    "Offer excellent after-sales support,\n",
    "and actively gather feedback to improve and customize your offerings based on city-specific needs\n",
    "\n",
    "'''"
   ]
  },
  {
   "cell_type": "code",
   "execution_count": 50,
   "id": "587c0d06",
   "metadata": {},
   "outputs": [
    {
     "data": {
      "text/plain": [
       "Dinner       50.0\n",
       "Lunch        30.0\n",
       "Breakfast    20.0\n",
       "Name: Favorite Meal, dtype: float64"
      ]
     },
     "execution_count": 50,
     "metadata": {},
     "output_type": "execute_result"
    }
   ],
   "source": [
    "(UserDetails[\"Favorite Meal\"].value_counts()) / (UserDetails[\"Favorite Meal\"].value_counts().sum()) * 100\n",
    "\n",
    "# in this we can see mostly our customer use appliance for Dinner like from our data 50% we use our products for Dinner."
   ]
  },
  {
   "cell_type": "markdown",
   "id": "9b2acdf4",
   "metadata": {},
   "source": [
    "# Analyze the CookingSession table"
   ]
  },
  {
   "cell_type": "code",
   "execution_count": 96,
   "id": "9de6061f",
   "metadata": {},
   "outputs": [
    {
     "data": {
      "text/plain": [
       "Dish Name        Meal Type\n",
       "Caesar Salad     Lunch        4.366667\n",
       "Grilled Chicken  Dinner       4.775000\n",
       "Oatmeal          Breakfast    4.100000\n",
       "Pancakes         Breakfast    4.400000\n",
       "Spaghetti        Dinner       4.625000\n",
       "Veggie Burger    Lunch        4.350000\n",
       "Name: Session Rating, dtype: float64"
      ]
     },
     "execution_count": 96,
     "metadata": {},
     "output_type": "execute_result"
    }
   ],
   "source": [
    "CookingSessions.groupby([\"Dish Name\", \"Meal Type\"])[\"Session Rating\"].mean()"
   ]
  },
  {
   "cell_type": "code",
   "execution_count": null,
   "id": "cecd58a5",
   "metadata": {},
   "outputs": [],
   "source": [
    "'''\n",
    "Top one dish for each meal are :\n",
    "    \n",
    "   1. Dinner - Grilled Chicken\n",
    "   2. Lunch - Caesar Salad \n",
    "   3. Breakfast - Pancakes\n",
    "   \n",
    "Dishes Categories:\n",
    "\n",
    "   1. Dinner - Grilled Chicken and Spaghetti\n",
    "   2. Lunch - Caesar Salad and Veggie Burger\n",
    "   3. Breakfast - Pancakes and Oatmeal\n",
    "\n",
    "'''"
   ]
  },
  {
   "cell_type": "markdown",
   "id": "c8908f9f",
   "metadata": {},
   "source": [
    "# Using visualization compare peak usage hour/weekday"
   ]
  },
  {
   "cell_type": "code",
   "execution_count": 102,
   "id": "1908e1fb",
   "metadata": {},
   "outputs": [
    {
     "data": {
      "image/png": "[encoded data removed]",
      "text/plain": [
       "<Figure size 576x288 with 1 Axes>"
      ]
     },
     "metadata": {
      "needs_background": "light"
     },
     "output_type": "display_data"
    }
   ],
   "source": [
    "# Extract hour and weekday\n",
    "CookingSessions['StartHour'] = CookingSessions['Session Start'].dt.hour\n",
    "CookingSessions['Weekday'] = CookingSessions['Session Start'].dt.day_name()\n",
    "\n",
    "# Most common session start times (hourly)\n",
    "hourly_usage = CookingSessions['StartHour'].value_counts().sort_index()\n",
    "\n",
    "# Most common days of the week\n",
    "weekday_usage = CookingSessions['Weekday'].value_counts()\n",
    "\n",
    "# Plotting hourly usage\n",
    "plt.figure(figsize=(8, 4))\n",
    "sns.barplot(x=hourly_usage.index, y=hourly_usage.values, palette='Blues_d')\n",
    "plt.title('Peak Usage by Hour', fontsize=16)\n",
    "plt.xlabel('Hour of Day', fontsize=12)\n",
    "plt.ylabel('Number of Sessions', fontsize=12)\n",
    "plt.xticks(range(0, 6))\n",
    "plt.show()"
   ]
  },
  {
   "cell_type": "code",
   "execution_count": 103,
   "id": "a8fe7e87",
   "metadata": {},
   "outputs": [
    {
     "data": {
      "image/png": "[encoded data removed]",
      "text/plain": [
       "<Figure size 720x432 with 1 Axes>"
      ]
     },
     "metadata": {
      "needs_background": "light"
     },
     "output_type": "display_data"
    }
   ],
   "source": [
    "# Plotting weekday usage\n",
    "plt.figure(figsize=(10, 6))\n",
    "sns.barplot(x=weekday_usage.index, y=weekday_usage.values, palette='Greens_d', order=[\n",
    "    'Monday', 'Tuesday', 'Wednesday', 'Thursday', 'Friday', 'Saturday', 'Sunday'])\n",
    "plt.title('Peak Usage by Weekday', fontsize=16)\n",
    "plt.xlabel('Day of Week', fontsize=12)\n",
    "plt.ylabel('Number of Sessions', fontsize=12)\n",
    "plt.show()"
   ]
  },
  {
   "cell_type": "code",
   "execution_count": 107,
   "id": "308beee8",
   "metadata": {},
   "outputs": [
    {
     "data": {
      "image/png": "[encoded data removed]",
      "text/plain": [
       "<Figure size 576x432 with 1 Axes>"
      ]
     },
     "metadata": {
      "needs_background": "light"
     },
     "output_type": "display_data"
    }
   ],
   "source": [
    "#Session Duration against Rating\n",
    "\n",
    "plt.figure(figsize=(8, 6))\n",
    "sns.scatterplot(x='Duration (mins)', y='Session Rating', data=CookingSessions, hue='Meal Type', palette='coolwarm', s=100)\n",
    "plt.title('Session Duration vs. Rating', fontsize=16)\n",
    "plt.xlabel('Duration (mins)', fontsize=12)\n",
    "plt.ylabel('Session Rating', fontsize=12)\n",
    "plt.show()"
   ]
  },
  {
   "cell_type": "markdown",
   "id": "fad0f84d",
   "metadata": {},
   "source": [
    "With these visualizations we can see our session watched mostly during dinner time and on Sunday. \n",
    "We conclude that our bestseller are Spaghetti and Grilled Chicken with highest rating."
   ]
  },
  {
   "cell_type": "markdown",
   "id": "0129ed73",
   "metadata": {},
   "source": [
    "# Analyze the OrderDetails Table"
   ]
  },
  {
   "cell_type": "code",
   "execution_count": 158,
   "id": "915316b1",
   "metadata": {},
   "outputs": [
    {
     "data": {
      "text/plain": [
       "Meal Type\n",
       "Breakfast    4.0\n",
       "Dinner       4.5\n",
       "Lunch        4.0\n",
       "Name: Rating, dtype: float64"
      ]
     },
     "execution_count": 158,
     "metadata": {},
     "output_type": "execute_result"
    }
   ],
   "source": [
    "OrderDetails.groupby('Meal Type')['Rating'].mean()"
   ]
  },
  {
   "cell_type": "code",
   "execution_count": 133,
   "id": "899d1b5d",
   "metadata": {},
   "outputs": [
    {
     "data": {
      "text/plain": [
       "Order Date\n",
       "2024-12-01    25.0\n",
       "2024-12-02    20.5\n",
       "2024-12-03    23.0\n",
       "2024-12-04    24.5\n",
       "2024-12-05    19.0\n",
       "2024-12-06    21.0\n",
       "2024-12-07    22.0\n",
       "2024-12-08    25.0\n",
       "Name: Amount (USD), dtype: float64"
      ]
     },
     "execution_count": 133,
     "metadata": {},
     "output_type": "execute_result"
    }
   ],
   "source": [
    "revenue_by_date = OrderDetails.groupby(OrderDetails['Order Date'].dt.date)['Amount (USD)'].sum()\n",
    "revenue_by_date"
   ]
  },
  {
   "cell_type": "code",
   "execution_count": 140,
   "id": "b640ce3f",
   "metadata": {},
   "outputs": [
    {
     "data": {
      "text/plain": [
       "Completed    14\n",
       "Canceled      2\n",
       "Name: Order Status, dtype: int64"
      ]
     },
     "execution_count": 140,
     "metadata": {},
     "output_type": "execute_result"
    }
   ],
   "source": [
    "avg_rating_meal_type = OrderDetails.groupby('Meal Type')['Rating'].mean()\n",
    "meal_type_counts = OrderDetails['Meal Type'].value_counts()\n",
    "order_status_counts = OrderDetails['Order Status'].value_counts()\n",
    "avg_amount_by_status = OrderDetails.groupby('Order Status')['Amount (USD)'].mean()\n",
    "order_status_counts\n",
    "\n",
    "# it is good that we have very less canceled orders"
   ]
  },
  {
   "cell_type": "code",
   "execution_count": 135,
   "id": "2becda03",
   "metadata": {},
   "outputs": [
    {
     "data": {
      "text/plain": [
       "Order Status\n",
       "Canceled     11.750000\n",
       "Completed    11.178571\n",
       "Name: Amount (USD), dtype: float64"
      ]
     },
     "execution_count": 135,
     "metadata": {},
     "output_type": "execute_result"
    }
   ],
   "source": [
    "avg_amount_by_status"
   ]
  },
  {
   "cell_type": "code",
   "execution_count": 139,
   "id": "a1920d4d",
   "metadata": {},
   "outputs": [
    {
     "data": {
      "image/png": "[encoded data removed]",
      "text/plain": [
       "<Figure size 720x432 with 1 Axes>"
      ]
     },
     "metadata": {
      "needs_background": "light"
     },
     "output_type": "display_data"
    }
   ],
   "source": [
    "plt.figure(figsize=(10, 6))\n",
    "sns.barplot(x=meal_type_counts.index, y=meal_type_counts.values, palette='Blues')\n",
    "plt.title('Order Count by Meal Type')\n",
    "plt.xlabel('Meal Type')\n",
    "plt.ylabel('Order Count')\n",
    "plt.show()"
   ]
  },
  {
   "cell_type": "code",
   "execution_count": 142,
   "id": "7cbf4e41",
   "metadata": {},
   "outputs": [
    {
     "data": {
      "image/png": "[encoded data removed]",
      "text/plain": [
       "<Figure size 720x432 with 1 Axes>"
      ]
     },
     "metadata": {
      "needs_background": "light"
     },
     "output_type": "display_data"
    }
   ],
   "source": [
    "plt.figure(figsize=(10, 6))\n",
    "sns.barplot(x=avg_rating_meal_type.index, y=avg_rating_meal_type.values, palette='coolwarm')\n",
    "plt.title('Average Rating by Meal Type')\n",
    "plt.xlabel('Meal Type')\n",
    "plt.ylabel('Average Rating')\n",
    "plt.show()"
   ]
  },
  {
   "cell_type": "code",
   "execution_count": 143,
   "id": "41af0757",
   "metadata": {},
   "outputs": [
    {
     "data": {
      "image/png": "[encoded data removed]",
      "text/plain": [
       "<Figure size 720x432 with 1 Axes>"
      ]
     },
     "metadata": {
      "needs_background": "light"
     },
     "output_type": "display_data"
    }
   ],
   "source": [
    "plt.figure(figsize=(10, 6))\n",
    "sns.lineplot(x=revenue_by_date.index, y=revenue_by_date.values, marker='o', color='green')\n",
    "plt.title('Total Revenue by Order Date')\n",
    "plt.xlabel('Order Date')\n",
    "plt.ylabel('Total Revenue (USD)')\n",
    "plt.xticks(rotation=45)\n",
    "plt.show()\n"
   ]
  },
  {
   "cell_type": "code",
   "execution_count": null,
   "id": "6a36762e",
   "metadata": {},
   "outputs": [],
   "source": []
  }
 ],
 "metadata": {
  "kernelspec": {
   "display_name": "Python 3 (ipykernel)",
   "language": "python",
   "name": "python3"
  },
  "language_info": {
   "codemirror_mode": {
    "name": "ipython",
    "version": 3
   },
   "file_extension": ".py",
   "mimetype": "text/x-python",
   "name": "python",
   "nbconvert_exporter": "python",
   "pygments_lexer": "ipython3",
   "version": "3.9.7"
  }
 },
 "nbformat": 4,
 "nbformat_minor": 5
}
